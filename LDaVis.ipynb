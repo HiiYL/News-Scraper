{
 "cells": [
  {
   "cell_type": "code",
   "execution_count": 2,
   "metadata": {
    "collapsed": false
   },
   "outputs": [],
   "source": [
    "class data:\n",
    "    def __init__(self, **kwargs):\n",
    "        self.__dict__.update(kwargs)\n",
    "args = data()\n",
    "args.filename = \"paultan.csv\"\n",
    "args.stemmer = \"lemma\"\n",
    "args.dictionary = \"automotive\"\n",
    "args.model = \"dtm\""
   ]
  },
  {
   "cell_type": "code",
   "execution_count": 3,
   "metadata": {
    "collapsed": false
   },
   "outputs": [
    {
     "name": "stdout",
     "output_type": "stream",
     "text": [
      "set(['changfeng motor', 'hi-test', 'magnetic', 'alternatives', 'dynasty', 'obstruction', 'bonneville salt flats', 'query', 'loyalty', 'adjustment', 'integrity', 'gonow', 'synthetic', 'saleswoman', 'disposal', 'technique', 'all-wheel drive', 'corrosive', 'jalopy', 'jianghuai', 'safety', 'infant seats', 'gravel', 'roadway', 'protective', 'lessons', 'advantage', 'dynamic', 'activation', 'aston martin', 'faw', 'mph', 'liability', 'balancing', 'drinking', 'lubrication', 'courageous', 'condition', 'tickets', 'retrial', 'transmission', 'race', 'jiangnan', 'recall', 'quick', 'inspection', 'accumulation', 'triumph', 'revolution', 'occurrence', 'corvette', 'four door', 'horn', 'tires', 'cost', 'design', 'enhancement', 'rigorous', 'runner-up', 'wings', 'hongqi', 'wreck', 'fine', 'specification', 'overload', 'sequential', 'optional', 'roewe', 'international', 'changhe', 'appeal', 'racing', 'ignition', 'impact', 'zhongyu', 'jiangling', 'component', 'chassis', 'lubricant', 'hwanghai', 'pedals', 'machinist', 'shaanxi automobile group', 'noticeable', 'guangzhou automobile industry group', 'technical', 'shift', 'terminals', 'liebao', 'expulsion', 'trial', 'land rover', 'chrysler', 'action', 'rolls royce', 'chana', 'influx', 'xinkai', 'secure', 'danger', 'multi-function', 'patience', 'flexibility', 'licensing', 'quick-drying', 'illumination', 'experimentation', 'standing', 'conventional', 'cheating', 'consumption', 'positive', 'gloss', 'texting', 'list price', 'process', 'vehicle', 'type', 'authorization', 'high-speed', 'fuqi', 'piston', 'relay', 'tenacity', 'emission', 'award', 'domination', 'frenzy', 'surface', 'huali', 'mitsubishi', 'grand-prix', 'customer', 'berth', 'car', 'challenge', 'gasoline', 'purge', 'zealous', 'mechanic', 'fulfill', 'interstate', 'souped-up', 'control', 'claim', 'calculation', 'nascar', 'front-row', 'collision', 'caution', 'offense', 'ratio', 'information', 'defective', 'chevrolet', 'comfort', 'damage', 'maps', 'rookie', 'faulty', 'car fax', 'tension', 'helmet', 'specifications', 'cadillac', 'nanjing soyat', 'back seat', 'despondent', 'credit score', 'haima automobile', 'data', 'compulsory', 'types', 'road race', 'joint', 'maintain', 'block', 'vapor', 'chery', 'make', 'restriction', 'speed limit', 'gauges', 'repair', 'feature', 'stability', 'course', 'windshield', 'ticket', 'precautionary', 'everus', 'overhaul', 'presence', 'crew', 'suspension', 'byd', 'spot', 'overshoot', 'halt', 'combination', 'auto', 'detour', 'immobility', 'dock', 'mercedes benz', 'legendary', 'saic motor', 'kindness', 'bank', 'calipers', 'wuling', 'debut', 'victory', 'shortage', 'crossing', 'breakdown', 'bentley', 'energy', 'formidable', 'displacement', 'indianapolis', 'frequency', 'sponsor', 'measurement', 'operation', 'salesman', 'event', 'entertainment', 'tribute', 'attendance', 'valve', 'interference', 'hydraulic', 'increase', 'adhesion', 'nominal', 'zotye', 'forta', 'formula', 'adaptive', 'youngman', 'viable', 'highway', 'jacking', 'model', 'bolts', 'hawtai', 'hyundai', 'diagnostic', 'cockpit', 'qualify', 'hazard', 'regulatory', 'shanghai maple guorun automobile', 'obligation', 'alert', 'certified', 'care', 'fiat', 'faw tianjin', 'zhejiang geely automobile', 'positioning', 'filter', 'turn', 'length', 'visualize', 'contingency', 'facilitate', 'major', 'features', 'hafei', 'powerful', 'touring', 'v-8', 'owner', 'quality', 'opel', 'size', 'arbitration', 'management', 'roll bars', 'service', 'ordering', 'automobile', 'euphoria', 'traction', 'trend', 'regulation', 'draft', 'wear and tear', 'holden', 'reparation', 'gear', 'hub', 'pump', 'season', 'park', 'qirui', 'gear head', 'deceleration', 'weld', 'junkyard', 'crawl', 'distance', 'lamborghini', 'aaa', 'exultation', 'turbo-charged', 'linchpin', 'youth', 'service department', 'yunque', 'steer', 'ascari', 'viewer', 'ram', 'torque', 'curves', 'track races', 'style', 'defending', 'wind resistance', 'gasket', 'horsepower', 'polarsun automobile', 'option', 'acceleration', 'instrumentation', 'skillful', 'vanity plates', 'equipment', 'jostle', 'spiel', 'destroy', 'throttle', 'green field motor', 'accuracy', 'mileage', 'price', 're-fuel', 'viscosity', 'automaker', 'gac group', 'huachen', 'significant', 'position', 'device', 'class', 'reward', 'placement', 'insured', 'popularity', 'yuejin', 'drive', 'crowd', 'dent', 'yutong group', 'points', 'ferrari', 'professional', 'consumer', 'bulletin', 'laws', 'alternator', 'emerging', 'certification', 'violation', 'fuxing', 'friction', 'gauge', 'manifold', 'aggressive', 'dongfeng', 'die-hard', 'abarth', 'indicator', 'slow', 'keys', 'reservoir', 'tire', 'winner', 'lifan', 'fuel', 'enthusiasm', 'dispute', 'dodge', 'ranking', 'front seat', 'handle', 'zhongxing', 'spoiler', 'xenon lights', 'dragster', 'honda', 'overall', 'expectation', 'famous', 'remedy', 'courage', 'kelly blue book', 'instinctive', 'teens', 'quarter-mile', 'jaguar', 'leather', 'bearings', 'differential', 'collusion', 'auto body shop', 'miles', 'gears', 'guizhou', 'automatic', 'keyless', 'requirement', 'mandatory', 'module', 'detection', 'accessory', 'seal', 'ability', 'combustion', 'rocket-power', 'speed', 'rings', 'xiali', 'rod', 'sponsorship', 'fans', 'various', 'routine', 'consecutive', 'zhonghua', 'sports-car', 'bufori', 'perodua', 'joy', 'industrious', 'mazda', 'efficiency', 'great wall motor', 'seat belts', 'interchangeable', 'convertible', 'lap', 'absentee', 'linkage', 'catalytic', 'reaction', 'accident', 'installation', 'license', 'fault', 'jumper cable', 'oullim', 'legion', 'selective', 'first automobile works', 'bristol', 'passing', 'estimation', 'guangqi honda', 'experimental', 'vent', 'color', 'proton', 'satisfaction', 'pole', 'tianma', 'aerodynamic', 'restraint system', 'unusual', 'shuguang group', 'instrument', 'chrome', 'lightness', 'vulcanization', 'porsche', 'coupe', 'sichuan tengzhong', 'teamwork', 'maintenance', 'prototype', 'tesla motors', 'engine', 'lanes', 'champion', 'new', 'determination', 'bmw', 'axle', 'fornasari', 'talent', 'overturn', 'tank', 'value', 'choices', 'substantial', 'dashboard', 'error', 'margin', 'spotlight', 'procedure', 'cylinder', 'undercarriage', 'accessories', 'speedway', 'obstacle', 'lightweight', 'technology', 'concentration', 'audi', 'deduction', 'range rover', 'proto', 'lagonda', 'fender', 'cumulative', 'parts', 'wall', 'modification', 'foton', 'document', 'jonway', 'entitled', 'development', 'exhaust', 'finish', 'bonus', 'huayang', 'ultimate', 'driver', 'automation', 'shuanghuan', 'grandstand', 'necessity', 'robotic', 'david brown', 'kia', 'fukang', 'wheels', 'booster', 'dadi', 'daytona', 'retardant', 'framework', 'navigation', 'rotary', 'purchase price', 'personal plates', 'checkered flag', 'client', 'monaco', 'entry', 'ssangyong', 'clearance', 'dimension', 'left', 'excessive', 'landwind', 'ergonomic', 'resolution', 'voltage', 'polish', 'skill', 'qualifications', 'alignment', 'discipline', 'red flag', 'generator', 'majority', 'gmc', \"chang'an\", 'whip around', 'improvement', 'eager', 'sedan', 'usage', 'grit', 'ambitious', 'emergency', 'spectators', 'beijing automobile works', 'discontinue', 'retractor', 'earnest', 'inflation', 'grid', 'performance', 'judge', 'unique', 'daewoo', 'lincoln', 'zeal', 'nissan', 'toyota', 'revving', 'garage', 'yellow flag', 'trade-in', 'response', 'buff', 'signal', 'replacement', 'nanjing automobile corporation', 'right', 'front-runner', 'mid-grade', 'deal', 'sequence', 'manual', 'authority', 'melee', 'invoice', 'mirror', 'soueast motors', 'kilometer (km)', 'mustang', 'creep', 'notification', 'fluids', 'kismet', 'dealership', 'fob', 'drivable', 'baolong', 'judgment', 'noise', 'obey', 'power', 'schedule', 'beijing automotive industry holding corporation', 'overexposure', 'volkswagen', 'pressure', 'fee', 'diagnostician', 'properties', 'manufacturer', 'sleek', 'limitation', 'cautious', 'zip', 'jeep', 'anchorage', 'industry', 'drama', 'unintentional', 'regular', 'disqualified', 'airfoil', 'fudi', 'pollution', 'warranty', 'antique', 'thermostat', 'malfunction', 'infraction', 'image', 'year', 'msr', 'administer', 'fumes', 'fuselage', 'buick', 'strategy', 'squander', 'weight', 'vaporize', 'brakes', 'showroom', 'tongtian', 'fast', 'custom', 'start', 'li nian', 'victorious', 'lot', 'wax', 'actuator', 'suzuki', 'manufacture', 'qoros', 'sizzle', 'amateur', 'quantity', 'oil', 'ford', 'delivery', 'failure', 'construction', 'competition', 'technician', 'injection', 'promote', 'liming', 'duel', 'oval track', 'converter', 'dangerous', 'excitement', 'back-up', 'limit', 'minor', 'display', 'passenger', 'supreme', 'jack-of-all-trades', 'security', 'classic', 'stripped', 'universal', 'jinbei', 'unsafe', 'quandary', 'warning', 'unwise', 'rally', 'gear box', 'withhold', 'pit', 'used car', 'maserati', 'variety', 'offensive', 'insurance', 'rubber', 'octane', 'evasive', 'digital', 'test', 'scandal', 'reckless', 'car port', 'championship', 'kinds', 'geely', 'braking', 'problems', 'lubricate', 'regulations', 'velocity', 'brands', 'exposure', 'alfa romeo', 'scouting', 'samsung', 'lancia', 'odds', 'interval', 'flag', 'precedent', 'accolade', 'hoist', 'lineup', 'intentional', 'original'])\n"
     ]
    },
    {
     "ename": "AttributeError",
     "evalue": "'builtin_function_or_method' object has no attribute 'endswith'",
     "output_type": "error",
     "traceback": [
      "\u001b[0;31m---------------------------------------------------------------------------\u001b[0m",
      "\u001b[0;31mAttributeError\u001b[0m                            Traceback (most recent call last)",
      "\u001b[0;32m<ipython-input-3-6e1ea8c1ab45>\u001b[0m in \u001b[0;36m<module>\u001b[0;34m()\u001b[0m\n\u001b[1;32m     47\u001b[0m   \u001b[0mtitles\u001b[0m \u001b[0;34m=\u001b[0m \u001b[0mlda\u001b[0m\u001b[0;34m.\u001b[0m\u001b[0mdatasets\u001b[0m\u001b[0;34m.\u001b[0m\u001b[0mload_reuters_titles\u001b[0m\u001b[0;34m(\u001b[0m\u001b[0;34m)\u001b[0m\u001b[0;34m\u001b[0m\u001b[0m\n\u001b[1;32m     48\u001b[0m \u001b[0;32melse\u001b[0m\u001b[0;34m:\u001b[0m\u001b[0;34m\u001b[0m\u001b[0m\n\u001b[0;32m---> 49\u001b[0;31m   \u001b[0mdataset_filepath\u001b[0m \u001b[0;34m=\u001b[0m \u001b[0mos\u001b[0m\u001b[0;34m.\u001b[0m\u001b[0mpath\u001b[0m\u001b[0;34m.\u001b[0m\u001b[0mjoin\u001b[0m\u001b[0;34m(\u001b[0m\u001b[0mdir\u001b[0m\u001b[0;34m,\u001b[0m \u001b[0;34m'datasets/'\u001b[0m \u001b[0;34m+\u001b[0m \u001b[0margs\u001b[0m\u001b[0;34m.\u001b[0m\u001b[0mfilename\u001b[0m\u001b[0;34m)\u001b[0m\u001b[0;34m\u001b[0m\u001b[0m\n\u001b[0m\u001b[1;32m     50\u001b[0m   \u001b[0mf\u001b[0m \u001b[0;34m=\u001b[0m \u001b[0mopen\u001b[0m\u001b[0;34m(\u001b[0m\u001b[0mdataset_filepath\u001b[0m\u001b[0;34m)\u001b[0m\u001b[0;34m\u001b[0m\u001b[0m\n\u001b[1;32m     51\u001b[0m   \u001b[0mreader\u001b[0m \u001b[0;34m=\u001b[0m \u001b[0municodecsv\u001b[0m\u001b[0;34m.\u001b[0m\u001b[0mreader\u001b[0m\u001b[0;34m(\u001b[0m\u001b[0mf\u001b[0m\u001b[0;34m,\u001b[0m \u001b[0mencoding\u001b[0m\u001b[0;34m=\u001b[0m\u001b[0;34m'utf-8'\u001b[0m\u001b[0;34m)\u001b[0m\u001b[0;34m\u001b[0m\u001b[0m\n",
      "\u001b[0;32m/usr/local/Cellar/python/2.7.11/Frameworks/Python.framework/Versions/2.7/lib/python2.7/posixpath.pyc\u001b[0m in \u001b[0;36mjoin\u001b[0;34m(a, *p)\u001b[0m\n\u001b[1;32m     68\u001b[0m         \u001b[0;32mif\u001b[0m \u001b[0mb\u001b[0m\u001b[0;34m.\u001b[0m\u001b[0mstartswith\u001b[0m\u001b[0;34m(\u001b[0m\u001b[0;34m'/'\u001b[0m\u001b[0;34m)\u001b[0m\u001b[0;34m:\u001b[0m\u001b[0;34m\u001b[0m\u001b[0m\n\u001b[1;32m     69\u001b[0m             \u001b[0mpath\u001b[0m \u001b[0;34m=\u001b[0m \u001b[0mb\u001b[0m\u001b[0;34m\u001b[0m\u001b[0m\n\u001b[0;32m---> 70\u001b[0;31m         \u001b[0;32melif\u001b[0m \u001b[0mpath\u001b[0m \u001b[0;34m==\u001b[0m \u001b[0;34m''\u001b[0m \u001b[0;32mor\u001b[0m \u001b[0mpath\u001b[0m\u001b[0;34m.\u001b[0m\u001b[0mendswith\u001b[0m\u001b[0;34m(\u001b[0m\u001b[0;34m'/'\u001b[0m\u001b[0;34m)\u001b[0m\u001b[0;34m:\u001b[0m\u001b[0;34m\u001b[0m\u001b[0m\n\u001b[0m\u001b[1;32m     71\u001b[0m             \u001b[0mpath\u001b[0m \u001b[0;34m+=\u001b[0m  \u001b[0mb\u001b[0m\u001b[0;34m\u001b[0m\u001b[0m\n\u001b[1;32m     72\u001b[0m         \u001b[0;32melse\u001b[0m\u001b[0;34m:\u001b[0m\u001b[0;34m\u001b[0m\u001b[0m\n",
      "\u001b[0;31mAttributeError\u001b[0m: 'builtin_function_or_method' object has no attribute 'endswith'"
     ]
    }
   ],
   "source": [
    "# -*- coding: utf-8 -*-\n",
    "import numpy as np\n",
    "import lda\n",
    "import lda.datasets\n",
    "import csv\n",
    "from nltk.tokenize import RegexpTokenizer\n",
    "from stop_words import get_stop_words\n",
    "from gensim import corpora, models\n",
    "\n",
    "from stemming.porter2 import stem\n",
    "from nltk.stem import *\n",
    "import unicodecsv\n",
    "import re\n",
    "import os\n",
    "import pyLDAvis.gensim\n",
    "import gensim\n",
    "\n",
    "_digits = re.compile('\\d')\n",
    "def contains_digits(d):\n",
    "    return bool(_digits.search(d))\n",
    "\n",
    "import enchant\n",
    "d = enchant.Dict(\"en_US\")\n",
    "# Or using the /usr/share/dict/british-english word list\n",
    "with open(args.dictionary + \"-english\") as word_file:\n",
    "  english_words = set(word.strip().lower() for word in word_file)\n",
    "  print(english_words)\n",
    "  def is_english_word(word):\n",
    "    return word.lower() in english_words\n",
    "\n",
    "def process_tokens(tokens,stemmer):\n",
    "  tokens = [i for i in tokens if not i in en_stop and not contains_digits(i) and is_english_word(i)]\n",
    "  if stemmer == 'porter':\n",
    "    stemmer = PorterStemmer()\n",
    "    tokens = [stemmer.stem(i) for i in tokens]\n",
    "  elif stemmer == 'porter2':\n",
    "    tokens = [stem(i) for i in tokens]\n",
    "  elif stemmer == 'lemma':\n",
    "    lemmatiser = WordNetLemmatizer()\n",
    "    tokens = [lemmatiser.lemmatize(i) for i in tokens]\n",
    "  return tokens\n",
    "\n",
    "\n",
    "if args.filename == \"sample\":\n",
    "  X = lda.datasets.load_reuters()\n",
    "  dictionary = lda.datasets.load_reuters_vocab()\n",
    "  titles = lda.datasets.load_reuters_titles()\n",
    "else:\n",
    "  dataset_filepath = os.path.join(dir, 'datasets/' + args.filename)\n",
    "  f = open(dataset_filepath)\n",
    "  reader = unicodecsv.reader(f, encoding='utf-8')\n",
    "  # csv_length = sum(1 for row in reader)\n",
    "  # f.seek(0) #reset reader position\n",
    "  identifiers = reader.next()\n",
    "  contents_idx = identifiers.index(\"contents\")\n",
    "  title_idx = identifiers.index(\"title\")\n",
    "\n",
    "  contents = [ row[contents_idx] for row in reader if row[contents_idx] ]\n",
    "\n",
    "  f.seek(0)\n",
    "  reader.next()\n",
    "  titles = [ row[title_idx] for row in reader if row[contents_idx] ]\n",
    "\n",
    "\n",
    "\n",
    "  texts = list()\n",
    "  tokenizer = RegexpTokenizer(r'\\w+')\n",
    "  en_stop = get_stop_words('en')\n",
    "  for idx,i in enumerate(contents):\n",
    "#     if not idx % 10:\n",
    "#       print \"INFO: Tokenizing articles <{}> \".format(idx)\n",
    "    raw = i.lower()\n",
    "    tokens = tokenizer.tokenize(raw)\n",
    "    texts.append(process_tokens(tokens, args.stemmer))\n",
    "    # print idx\n",
    "    # add tokens to list\n",
    "\n",
    "  print \"[DEBUG] Length of Texts : {}\".format(len(texts))\n",
    "  dictionary = corpora.Dictionary(texts)\n",
    "  corpus = [dictionary.doc2bow(text) for text in texts]\n"
   ]
  },
  {
   "cell_type": "code",
   "execution_count": 14,
   "metadata": {
    "collapsed": false,
    "scrolled": false
   },
   "outputs": [],
   "source": [
    "pyLDAvis.enable_notebook()\n",
    "  model_filename = os.path.join(dir, 'models/' + args.filename.split('.')[0] + \"_\" + args.model + '.model')\n",
    "try:\n",
    "  ldamodel = models.LdaModel.load(model_filename)\n",
    "except IOError:\n",
    "  if(args.model == \"lda\"):\n",
    "    ldamodel = gensim.models.ldamodel.LdaModel(corpus, num_topics=10, id2word = dictionary, passes=20)\n",
    "  elif(args.model == \"dtm\"):\n",
    "    my_timeslices = [500,500,500,500,500,346]\n",
    "    ldamodel = gensim.models.wrappers.DtmModel('/Users/Hii/Projects/news_scraper/dtm-darwin64', corpus, my_timeslices, num_topics=20, id2word=dictionary,initialize_lda=True)\n",
    "  else:\n",
    "    raise ValueError('Unknown Model Type')\n",
    "  ldamodel.save(model_filename)\n",
    "\n",
    "\n",
    "# ldamodel = gensim.models.ldamodel.LdaModel(corpus, num_topics=10, id2word = dictionary, passes=20)\n",
    "# pyLDAvis.gensim.prepare(ldamodel, corpus, dictionary)\n",
    "\n"
   ]
  },
  {
   "cell_type": "code",
   "execution_count": 17,
   "metadata": {
    "collapsed": false,
    "scrolled": true
   },
   "outputs": [
    {
     "name": "stdout",
     "output_type": "stream",
     "text": [
      "Topic #0 : year safety increase price car impact point vehicle test cost\n",
      "Topic #1 : volkswagen perodua year recall scandal brand vehicle automaker model new\n",
      "Topic #2 : audi drive cockpit new navigation lot comfort map showroom information\n",
      "Topic #3 : car porsche speed power engine drive weight wheel performance chassis\n",
      "Topic #4 : design ferrari fiat bentley jeep car year feature new dashboard\n",
      "Topic #5 : engine speed new transmission automatic torque manual cylinder model mitsubishi\n",
      "Topic #6 : toyota vehicle new accessory year car part technical passenger fuel\n",
      "Topic #7 : engine fuel new power efficiency performance oil consumption cylinder technology\n",
      "Topic #8 : new car model sedan year design debut feature make engine\n",
      "Topic #9 : control feature new speed display drive safety leather automatic model\n",
      "Topic #10 : year safety increase price car impact point vehicle test cost\n",
      "Topic #11 : volkswagen perodua year recall scandal brand vehicle automaker model new\n",
      "Topic #12 : audi drive cockpit new navigation lot comfort map showroom information\n",
      "Topic #13 : car porsche speed power engine drive weight wheel performance chassis\n",
      "Topic #14 : design ferrari fiat bentley jeep car year feature new abarth\n",
      "Topic #15 : engine speed new transmission automatic torque manual cylinder model mitsubishi\n",
      "Topic #16 : toyota vehicle new accessory car year part technical passenger drive\n",
      "Topic #17 : engine fuel new power efficiency consumption performance oil cylinder technology\n",
      "Topic #18 : new car model sedan design year debut feature make engine\n",
      "Topic #19 : control feature new speed display safety drive automatic leather wheel\n",
      "Topic #20 : safety year increase price car impact point test vehicle cost\n",
      "Topic #21 : volkswagen perodua year recall scandal brand vehicle automaker new model\n",
      "Topic #22 : audi drive cockpit new navigation lot comfort map showroom information\n",
      "Topic #23 : car porsche speed power engine drive weight wheel performance chassis\n",
      "Topic #24 : design ferrari fiat bentley jeep car year feature new abarth\n",
      "Topic #25 : speed engine new transmission manual torque automatic cylinder mitsubishi model\n",
      "Topic #26 : toyota vehicle new accessory car year part technical drive passenger\n",
      "Topic #27 : fuel engine new power efficiency consumption performance oil cylinder technology\n",
      "Topic #28 : new car model sedan design year debut feature make engine\n",
      "Topic #29 : control feature new speed display safety wheel drive automatic leather\n",
      "Topic #30 : safety increase year price car point impact test vehicle cost\n",
      "Topic #31 : volkswagen perodua year recall scandal brand vehicle automaker new model\n",
      "Topic #32 : audi drive cockpit new navigation lot comfort map showroom information\n",
      "Topic #33 : car porsche speed power engine drive wheel weight performance lightweight\n",
      "Topic #34 : design ferrari fiat bentley car jeep feature year new abarth\n",
      "Topic #35 : speed engine new transmission manual torque automatic cylinder model mitsubishi\n",
      "Topic #36 : toyota vehicle new accessory car part year technical drive passenger\n",
      "Topic #37 : fuel engine new power efficiency consumption performance oil technology cylinder\n",
      "Topic #38 : new model car sedan design year debut feature engine make\n",
      "Topic #39 : control feature new speed display safety wheel drive automatic driver\n",
      "Topic #40 : safety increase year price car point impact test vehicle cost\n",
      "Topic #41 : volkswagen perodua year recall scandal brand vehicle automaker new model\n",
      "Topic #42 : audi drive cockpit new navigation lot comfort map showroom information\n",
      "Topic #43 : car porsche speed power engine drive wheel weight performance lightweight\n",
      "Topic #44 : design ferrari fiat bentley car jeep feature year new dashboard\n",
      "Topic #45 : speed engine new transmission manual torque automatic cylinder model mitsubishi\n",
      "Topic #46 : toyota vehicle new accessory car part year technical drive passenger\n",
      "Topic #47 : fuel engine new power efficiency consumption performance oil technology cylinder\n",
      "Topic #48 : new model car sedan design year debut feature engine make\n",
      "Topic #49 : control feature new speed display automatic wheel safety driver drive\n"
     ]
    }
   ],
   "source": [
    "  for idx, topic in enumerate(ldamodel.show_topics(topics=10, topn=10, log=False, formatted=False)):\n",
    "    print \"Topic #\" + str(idx) + \" :\",\n",
    "    for word in topic:\n",
    "      print word[1],\n",
    "    print"
   ]
  },
  {
   "cell_type": "code",
   "execution_count": null,
   "metadata": {
    "collapsed": true
   },
   "outputs": [],
   "source": []
  }
 ],
 "metadata": {
  "kernelspec": {
   "display_name": "Python 2",
   "language": "python",
   "name": "python2"
  },
  "language_info": {
   "codemirror_mode": {
    "name": "ipython",
    "version": 2
   },
   "file_extension": ".py",
   "mimetype": "text/x-python",
   "name": "python",
   "nbconvert_exporter": "python",
   "pygments_lexer": "ipython2",
   "version": "2.7.11"
  }
 },
 "nbformat": 4,
 "nbformat_minor": 0
}
